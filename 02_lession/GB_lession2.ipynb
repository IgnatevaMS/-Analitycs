{
 "cells": [
  {
   "cell_type": "code",
   "execution_count": 4,
   "id": "30edbdb8",
   "metadata": {},
   "outputs": [],
   "source": [
    "import pandas as pd"
   ]
  },
  {
   "cell_type": "code",
   "execution_count": 5,
   "id": "40774b18",
   "metadata": {},
   "outputs": [
    {
     "data": {
      "text/html": [
       "<div>\n",
       "<style scoped>\n",
       "    .dataframe tbody tr th:only-of-type {\n",
       "        vertical-align: middle;\n",
       "    }\n",
       "\n",
       "    .dataframe tbody tr th {\n",
       "        vertical-align: top;\n",
       "    }\n",
       "\n",
       "    .dataframe thead th {\n",
       "        text-align: right;\n",
       "    }\n",
       "</style>\n",
       "<table border=\"1\" class=\"dataframe\">\n",
       "  <thead>\n",
       "    <tr style=\"text-align: right;\">\n",
       "      <th></th>\n",
       "      <th>user_id</th>\n",
       "      <th>age_group</th>\n",
       "      <th>language_preferred</th>\n",
       "    </tr>\n",
       "  </thead>\n",
       "  <tbody>\n",
       "    <tr>\n",
       "      <th>0</th>\n",
       "      <td>a1000</td>\n",
       "      <td>0-18 years</td>\n",
       "      <td>English</td>\n",
       "    </tr>\n",
       "    <tr>\n",
       "      <th>1</th>\n",
       "      <td>a1001</td>\n",
       "      <td>19-24 years</td>\n",
       "      <td>English</td>\n",
       "    </tr>\n",
       "    <tr>\n",
       "      <th>2</th>\n",
       "      <td>a1002</td>\n",
       "      <td>24-30 years</td>\n",
       "      <td>English</td>\n",
       "    </tr>\n",
       "    <tr>\n",
       "      <th>3</th>\n",
       "      <td>a1003</td>\n",
       "      <td>30-36 years</td>\n",
       "      <td>English</td>\n",
       "    </tr>\n",
       "    <tr>\n",
       "      <th>4</th>\n",
       "      <td>a1004</td>\n",
       "      <td>36-45 years</td>\n",
       "      <td>English</td>\n",
       "    </tr>\n",
       "  </tbody>\n",
       "</table>\n",
       "</div>"
      ],
      "text/plain": [
       "  user_id    age_group language_preferred\n",
       "0   a1000   0-18 years            English\n",
       "1   a1001  19-24 years            English\n",
       "2   a1002  24-30 years            English\n",
       "3   a1003  30-36 years            English\n",
       "4   a1004  36-45 years            English"
      ]
     },
     "execution_count": 5,
     "metadata": {},
     "output_type": "execute_result"
    }
   ],
   "source": [
    "df_user = pd.read_csv('users.csv', header = 0, sep = ',')\n",
    "df_user.head()"
   ]
  },
  {
   "cell_type": "code",
   "execution_count": 18,
   "id": "619c1a41",
   "metadata": {},
   "outputs": [
    {
     "data": {
      "text/plain": [
       "(10037, 3)"
      ]
     },
     "execution_count": 18,
     "metadata": {},
     "output_type": "execute_result"
    }
   ],
   "source": [
    "df_user.shape"
   ]
  },
  {
   "cell_type": "code",
   "execution_count": 21,
   "id": "f518038a",
   "metadata": {},
   "outputs": [
    {
     "data": {
      "text/plain": [
       "<bound method DataFrame.info of       user_id    age_group language_preferred\n",
       "0       a1000   0-18 years            English\n",
       "1       a1001  19-24 years            English\n",
       "2       a1002  24-30 years            English\n",
       "3       a1003  30-36 years            English\n",
       "4       a1004  36-45 years            English\n",
       "...       ...          ...                ...\n",
       "10032  a11032  45-55 years             German\n",
       "10033  a11033    55+ years             German\n",
       "10034  a11034    55+ years             German\n",
       "10035  a11035   0-18 years             German\n",
       "10036  a11036   0-18 years             German\n",
       "\n",
       "[10037 rows x 3 columns]>"
      ]
     },
     "execution_count": 21,
     "metadata": {},
     "output_type": "execute_result"
    }
   ],
   "source": [
    "df_user.info"
   ]
  },
  {
   "cell_type": "code",
   "execution_count": 22,
   "id": "a94048bb",
   "metadata": {},
   "outputs": [
    {
     "data": {
      "text/plain": [
       "<bound method NDFrame.describe of       user_id    age_group language_preferred\n",
       "0       a1000   0-18 years            English\n",
       "1       a1001  19-24 years            English\n",
       "2       a1002  24-30 years            English\n",
       "3       a1003  30-36 years            English\n",
       "4       a1004  36-45 years            English\n",
       "...       ...          ...                ...\n",
       "10032  a11032  45-55 years             German\n",
       "10033  a11033    55+ years             German\n",
       "10034  a11034    55+ years             German\n",
       "10035  a11035   0-18 years             German\n",
       "10036  a11036   0-18 years             German\n",
       "\n",
       "[10037 rows x 3 columns]>"
      ]
     },
     "execution_count": 22,
     "metadata": {},
     "output_type": "execute_result"
    }
   ],
   "source": [
    "df_user.describe"
   ]
  },
  {
   "cell_type": "code",
   "execution_count": 23,
   "id": "fe51b0a7",
   "metadata": {},
   "outputs": [
    {
     "data": {
      "text/html": [
       "<div>\n",
       "<style scoped>\n",
       "    .dataframe tbody tr th:only-of-type {\n",
       "        vertical-align: middle;\n",
       "    }\n",
       "\n",
       "    .dataframe tbody tr th {\n",
       "        vertical-align: top;\n",
       "    }\n",
       "\n",
       "    .dataframe thead th {\n",
       "        text-align: right;\n",
       "    }\n",
       "</style>\n",
       "<table border=\"1\" class=\"dataframe\">\n",
       "  <thead>\n",
       "    <tr style=\"text-align: right;\">\n",
       "      <th></th>\n",
       "      <th>user_id</th>\n",
       "      <th>age_group</th>\n",
       "      <th>language_preferred</th>\n",
       "    </tr>\n",
       "  </thead>\n",
       "  <tbody>\n",
       "    <tr>\n",
       "      <th>count</th>\n",
       "      <td>10037</td>\n",
       "      <td>10037</td>\n",
       "      <td>10037</td>\n",
       "    </tr>\n",
       "    <tr>\n",
       "      <th>unique</th>\n",
       "      <td>10037</td>\n",
       "      <td>7</td>\n",
       "      <td>4</td>\n",
       "    </tr>\n",
       "    <tr>\n",
       "      <th>top</th>\n",
       "      <td>a1000</td>\n",
       "      <td>19-24 years</td>\n",
       "      <td>English</td>\n",
       "    </tr>\n",
       "    <tr>\n",
       "      <th>freq</th>\n",
       "      <td>1</td>\n",
       "      <td>1682</td>\n",
       "      <td>9275</td>\n",
       "    </tr>\n",
       "  </tbody>\n",
       "</table>\n",
       "</div>"
      ],
      "text/plain": [
       "       user_id    age_group language_preferred\n",
       "count    10037        10037              10037\n",
       "unique   10037            7                  4\n",
       "top      a1000  19-24 years            English\n",
       "freq         1         1682               9275"
      ]
     },
     "execution_count": 23,
     "metadata": {},
     "output_type": "execute_result"
    }
   ],
   "source": [
    "df_user.describe(include=['object', 'bool'])"
   ]
  },
  {
   "cell_type": "code",
   "execution_count": 24,
   "id": "a4864b62",
   "metadata": {},
   "outputs": [
    {
     "data": {
      "text/plain": [
       "English    9275\n",
       "Spanish     450\n",
       "German      167\n",
       "Arabic      145\n",
       "Name: language_preferred, dtype: int64"
      ]
     },
     "execution_count": 24,
     "metadata": {},
     "output_type": "execute_result"
    }
   ],
   "source": [
    "df_user['language_preferred'].value_counts()"
   ]
  },
  {
   "cell_type": "code",
   "execution_count": 25,
   "id": "b35d11af",
   "metadata": {},
   "outputs": [
    {
     "data": {
      "text/plain": [
       "19-24 years    1682\n",
       "24-30 years    1568\n",
       "0-18 years     1539\n",
       "30-36 years    1355\n",
       "36-45 years    1353\n",
       "45-55 years    1353\n",
       "55+ years      1187\n",
       "Name: age_group, dtype: int64"
      ]
     },
     "execution_count": 25,
     "metadata": {},
     "output_type": "execute_result"
    }
   ],
   "source": [
    "df_user['age_group'].value_counts()"
   ]
  },
  {
   "cell_type": "code",
   "execution_count": 6,
   "id": "7a6f5bf9",
   "metadata": {},
   "outputs": [
    {
     "data": {
      "text/html": [
       "<div>\n",
       "<style scoped>\n",
       "    .dataframe tbody tr th:only-of-type {\n",
       "        vertical-align: middle;\n",
       "    }\n",
       "\n",
       "    .dataframe tbody tr th {\n",
       "        vertical-align: top;\n",
       "    }\n",
       "\n",
       "    .dataframe thead th {\n",
       "        text-align: right;\n",
       "    }\n",
       "</style>\n",
       "<table border=\"1\" class=\"dataframe\">\n",
       "  <thead>\n",
       "    <tr style=\"text-align: right;\">\n",
       "      <th></th>\n",
       "      <th>user_id</th>\n",
       "      <th>subscribing_channel</th>\n",
       "      <th>date_subscribed</th>\n",
       "      <th>date_canceled</th>\n",
       "      <th>is_retained</th>\n",
       "    </tr>\n",
       "  </thead>\n",
       "  <tbody>\n",
       "    <tr>\n",
       "      <th>0</th>\n",
       "      <td>a1000</td>\n",
       "      <td>House Ads</td>\n",
       "      <td>1/1/18</td>\n",
       "      <td>NaN</td>\n",
       "      <td>True</td>\n",
       "    </tr>\n",
       "    <tr>\n",
       "      <th>1</th>\n",
       "      <td>a1001</td>\n",
       "      <td>House Ads</td>\n",
       "      <td>1/1/18</td>\n",
       "      <td>NaN</td>\n",
       "      <td>True</td>\n",
       "    </tr>\n",
       "    <tr>\n",
       "      <th>2</th>\n",
       "      <td>a1002</td>\n",
       "      <td>House Ads</td>\n",
       "      <td>1/1/18</td>\n",
       "      <td>NaN</td>\n",
       "      <td>True</td>\n",
       "    </tr>\n",
       "    <tr>\n",
       "      <th>3</th>\n",
       "      <td>a1003</td>\n",
       "      <td>House Ads</td>\n",
       "      <td>1/1/18</td>\n",
       "      <td>NaN</td>\n",
       "      <td>True</td>\n",
       "    </tr>\n",
       "    <tr>\n",
       "      <th>4</th>\n",
       "      <td>a1004</td>\n",
       "      <td>House Ads</td>\n",
       "      <td>1/1/18</td>\n",
       "      <td>NaN</td>\n",
       "      <td>True</td>\n",
       "    </tr>\n",
       "  </tbody>\n",
       "</table>\n",
       "</div>"
      ],
      "text/plain": [
       "  user_id subscribing_channel date_subscribed date_canceled is_retained\n",
       "0   a1000           House Ads          1/1/18           NaN        True\n",
       "1   a1001           House Ads          1/1/18           NaN        True\n",
       "2   a1002           House Ads          1/1/18           NaN        True\n",
       "3   a1003           House Ads          1/1/18           NaN        True\n",
       "4   a1004           House Ads          1/1/18           NaN        True"
      ]
     },
     "execution_count": 6,
     "metadata": {},
     "output_type": "execute_result"
    }
   ],
   "source": [
    "df_subscribers = pd.read_csv('subscribers.csv', header = 0, sep = ',')\n",
    "df_subscribers.head()"
   ]
  },
  {
   "cell_type": "code",
   "execution_count": 26,
   "id": "bb81f004",
   "metadata": {},
   "outputs": [
    {
     "data": {
      "text/plain": [
       "(10037, 5)"
      ]
     },
     "execution_count": 26,
     "metadata": {},
     "output_type": "execute_result"
    }
   ],
   "source": [
    "df_subscribers.shape"
   ]
  },
  {
   "cell_type": "code",
   "execution_count": 27,
   "id": "e4369270",
   "metadata": {},
   "outputs": [
    {
     "data": {
      "text/plain": [
       "<bound method DataFrame.info of       user_id subscribing_channel date_subscribed date_canceled is_retained\n",
       "0       a1000           House Ads          1/1/18           NaN        True\n",
       "1       a1001           House Ads          1/1/18           NaN        True\n",
       "2       a1002           House Ads          1/1/18           NaN        True\n",
       "3       a1003           House Ads          1/1/18           NaN        True\n",
       "4       a1004           House Ads          1/1/18           NaN        True\n",
       "...       ...                 ...             ...           ...         ...\n",
       "10032  a11032               Email         1/17/18       1/24/18       False\n",
       "10033  a11033               Email         1/17/18           NaN        True\n",
       "10034  a11034               Email         1/17/18           NaN        True\n",
       "10035  a11035               Email         1/17/18           NaN        True\n",
       "10036  a11036               Email         1/17/18           NaN        True\n",
       "\n",
       "[10037 rows x 5 columns]>"
      ]
     },
     "execution_count": 27,
     "metadata": {},
     "output_type": "execute_result"
    }
   ],
   "source": [
    "df_subscribers.info"
   ]
  },
  {
   "cell_type": "code",
   "execution_count": 28,
   "id": "7525766e",
   "metadata": {},
   "outputs": [
    {
     "data": {
      "text/plain": [
       "<bound method NDFrame.describe of       user_id subscribing_channel date_subscribed date_canceled is_retained\n",
       "0       a1000           House Ads          1/1/18           NaN        True\n",
       "1       a1001           House Ads          1/1/18           NaN        True\n",
       "2       a1002           House Ads          1/1/18           NaN        True\n",
       "3       a1003           House Ads          1/1/18           NaN        True\n",
       "4       a1004           House Ads          1/1/18           NaN        True\n",
       "...       ...                 ...             ...           ...         ...\n",
       "10032  a11032               Email         1/17/18       1/24/18       False\n",
       "10033  a11033               Email         1/17/18           NaN        True\n",
       "10034  a11034               Email         1/17/18           NaN        True\n",
       "10035  a11035               Email         1/17/18           NaN        True\n",
       "10036  a11036               Email         1/17/18           NaN        True\n",
       "\n",
       "[10037 rows x 5 columns]>"
      ]
     },
     "execution_count": 28,
     "metadata": {},
     "output_type": "execute_result"
    }
   ],
   "source": [
    "df_subscribers.describe"
   ]
  },
  {
   "cell_type": "code",
   "execution_count": 30,
   "id": "2f400f20",
   "metadata": {},
   "outputs": [
    {
     "data": {
      "text/html": [
       "<div>\n",
       "<style scoped>\n",
       "    .dataframe tbody tr th:only-of-type {\n",
       "        vertical-align: middle;\n",
       "    }\n",
       "\n",
       "    .dataframe tbody tr th {\n",
       "        vertical-align: top;\n",
       "    }\n",
       "\n",
       "    .dataframe thead th {\n",
       "        text-align: right;\n",
       "    }\n",
       "</style>\n",
       "<table border=\"1\" class=\"dataframe\">\n",
       "  <thead>\n",
       "    <tr style=\"text-align: right;\">\n",
       "      <th></th>\n",
       "      <th>user_id</th>\n",
       "      <th>subscribing_channel</th>\n",
       "      <th>date_subscribed</th>\n",
       "      <th>date_canceled</th>\n",
       "      <th>is_retained</th>\n",
       "    </tr>\n",
       "  </thead>\n",
       "  <tbody>\n",
       "    <tr>\n",
       "      <th>count</th>\n",
       "      <td>10037</td>\n",
       "      <td>1856</td>\n",
       "      <td>1856</td>\n",
       "      <td>577</td>\n",
       "      <td>1856</td>\n",
       "    </tr>\n",
       "    <tr>\n",
       "      <th>unique</th>\n",
       "      <td>10037</td>\n",
       "      <td>5</td>\n",
       "      <td>31</td>\n",
       "      <td>115</td>\n",
       "      <td>2</td>\n",
       "    </tr>\n",
       "    <tr>\n",
       "      <th>top</th>\n",
       "      <td>a1000</td>\n",
       "      <td>Instagram</td>\n",
       "      <td>1/16/18</td>\n",
       "      <td>4/2/18</td>\n",
       "      <td>True</td>\n",
       "    </tr>\n",
       "    <tr>\n",
       "      <th>freq</th>\n",
       "      <td>1</td>\n",
       "      <td>600</td>\n",
       "      <td>163</td>\n",
       "      <td>15</td>\n",
       "      <td>1279</td>\n",
       "    </tr>\n",
       "  </tbody>\n",
       "</table>\n",
       "</div>"
      ],
      "text/plain": [
       "       user_id subscribing_channel date_subscribed date_canceled is_retained\n",
       "count    10037                1856            1856           577        1856\n",
       "unique   10037                   5              31           115           2\n",
       "top      a1000           Instagram         1/16/18        4/2/18        True\n",
       "freq         1                 600             163            15        1279"
      ]
     },
     "execution_count": 30,
     "metadata": {},
     "output_type": "execute_result"
    }
   ],
   "source": [
    "df_subscribers.describe(include=['object', 'bool'])"
   ]
  },
  {
   "cell_type": "code",
   "execution_count": null,
   "id": "cd7708d9",
   "metadata": {},
   "outputs": [],
   "source": [
    "df_subscribers['subscribing_channel'].value_counts()"
   ]
  },
  {
   "cell_type": "code",
   "execution_count": 31,
   "id": "78539034",
   "metadata": {},
   "outputs": [
    {
     "data": {
      "text/plain": [
       "True     1279\n",
       "False     577\n",
       "Name: is_retained, dtype: int64"
      ]
     },
     "execution_count": 31,
     "metadata": {},
     "output_type": "execute_result"
    }
   ],
   "source": [
    "df_subscribers['is_retained'].value_counts()"
   ]
  },
  {
   "cell_type": "code",
   "execution_count": 7,
   "id": "3e5afa82",
   "metadata": {},
   "outputs": [
    {
     "data": {
      "text/html": [
       "<div>\n",
       "<style scoped>\n",
       "    .dataframe tbody tr th:only-of-type {\n",
       "        vertical-align: middle;\n",
       "    }\n",
       "\n",
       "    .dataframe tbody tr th {\n",
       "        vertical-align: top;\n",
       "    }\n",
       "\n",
       "    .dataframe thead th {\n",
       "        text-align: right;\n",
       "    }\n",
       "</style>\n",
       "<table border=\"1\" class=\"dataframe\">\n",
       "  <thead>\n",
       "    <tr style=\"text-align: right;\">\n",
       "      <th></th>\n",
       "      <th>user_id</th>\n",
       "      <th>date_served</th>\n",
       "      <th>marketing_channel</th>\n",
       "      <th>variant</th>\n",
       "      <th>language_displayed</th>\n",
       "      <th>converted</th>\n",
       "    </tr>\n",
       "  </thead>\n",
       "  <tbody>\n",
       "    <tr>\n",
       "      <th>0</th>\n",
       "      <td>a1000</td>\n",
       "      <td>1/1/18</td>\n",
       "      <td>House Ads</td>\n",
       "      <td>personalization</td>\n",
       "      <td>English</td>\n",
       "      <td>True</td>\n",
       "    </tr>\n",
       "    <tr>\n",
       "      <th>1</th>\n",
       "      <td>a1001</td>\n",
       "      <td>1/1/18</td>\n",
       "      <td>House Ads</td>\n",
       "      <td>personalization</td>\n",
       "      <td>English</td>\n",
       "      <td>True</td>\n",
       "    </tr>\n",
       "    <tr>\n",
       "      <th>2</th>\n",
       "      <td>a1002</td>\n",
       "      <td>1/1/18</td>\n",
       "      <td>House Ads</td>\n",
       "      <td>personalization</td>\n",
       "      <td>English</td>\n",
       "      <td>True</td>\n",
       "    </tr>\n",
       "    <tr>\n",
       "      <th>3</th>\n",
       "      <td>a1003</td>\n",
       "      <td>1/1/18</td>\n",
       "      <td>House Ads</td>\n",
       "      <td>personalization</td>\n",
       "      <td>English</td>\n",
       "      <td>True</td>\n",
       "    </tr>\n",
       "    <tr>\n",
       "      <th>4</th>\n",
       "      <td>a1004</td>\n",
       "      <td>1/1/18</td>\n",
       "      <td>House Ads</td>\n",
       "      <td>personalization</td>\n",
       "      <td>English</td>\n",
       "      <td>True</td>\n",
       "    </tr>\n",
       "  </tbody>\n",
       "</table>\n",
       "</div>"
      ],
      "text/plain": [
       "  user_id date_served marketing_channel          variant language_displayed  \\\n",
       "0   a1000      1/1/18         House Ads  personalization            English   \n",
       "1   a1001      1/1/18         House Ads  personalization            English   \n",
       "2   a1002      1/1/18         House Ads  personalization            English   \n",
       "3   a1003      1/1/18         House Ads  personalization            English   \n",
       "4   a1004      1/1/18         House Ads  personalization            English   \n",
       "\n",
       "  converted  \n",
       "0      True  \n",
       "1      True  \n",
       "2      True  \n",
       "3      True  \n",
       "4      True  "
      ]
     },
     "execution_count": 7,
     "metadata": {},
     "output_type": "execute_result"
    }
   ],
   "source": [
    "df_marketing_campaign = pd.read_csv('marketing_campaign.csv', header = 0, sep = ',')\n",
    "df_marketing_campaign.head()"
   ]
  },
  {
   "cell_type": "code",
   "execution_count": 34,
   "id": "f076e3b0",
   "metadata": {},
   "outputs": [
    {
     "data": {
      "text/plain": [
       "(10037, 6)"
      ]
     },
     "execution_count": 34,
     "metadata": {},
     "output_type": "execute_result"
    }
   ],
   "source": [
    "df_marketing_campaign.shape"
   ]
  },
  {
   "cell_type": "code",
   "execution_count": 35,
   "id": "4e9eef15",
   "metadata": {},
   "outputs": [
    {
     "data": {
      "text/plain": [
       "<bound method DataFrame.info of       user_id date_served marketing_channel          variant  \\\n",
       "0       a1000      1/1/18         House Ads  personalization   \n",
       "1       a1001      1/1/18         House Ads  personalization   \n",
       "2       a1002      1/1/18         House Ads  personalization   \n",
       "3       a1003      1/1/18         House Ads  personalization   \n",
       "4       a1004      1/1/18         House Ads  personalization   \n",
       "...       ...         ...               ...              ...   \n",
       "10032  a11032     1/17/18             Email          control   \n",
       "10033  a11033     1/17/18             Email          control   \n",
       "10034  a11034      1/5/18         Instagram          control   \n",
       "10035  a11035     1/17/18             Email          control   \n",
       "10036  a11036      1/6/18          Facebook          control   \n",
       "\n",
       "      language_displayed converted  \n",
       "0                English      True  \n",
       "1                English      True  \n",
       "2                English      True  \n",
       "3                English      True  \n",
       "4                English      True  \n",
       "...                  ...       ...  \n",
       "10032             German      True  \n",
       "10033             German      True  \n",
       "10034             German     False  \n",
       "10035             German      True  \n",
       "10036             German     False  \n",
       "\n",
       "[10037 rows x 6 columns]>"
      ]
     },
     "execution_count": 35,
     "metadata": {},
     "output_type": "execute_result"
    }
   ],
   "source": [
    "df_marketing_campaign.info"
   ]
  },
  {
   "cell_type": "code",
   "execution_count": 36,
   "id": "0778c028",
   "metadata": {},
   "outputs": [
    {
     "data": {
      "text/plain": [
       "<bound method NDFrame.describe of       user_id date_served marketing_channel          variant  \\\n",
       "0       a1000      1/1/18         House Ads  personalization   \n",
       "1       a1001      1/1/18         House Ads  personalization   \n",
       "2       a1002      1/1/18         House Ads  personalization   \n",
       "3       a1003      1/1/18         House Ads  personalization   \n",
       "4       a1004      1/1/18         House Ads  personalization   \n",
       "...       ...         ...               ...              ...   \n",
       "10032  a11032     1/17/18             Email          control   \n",
       "10033  a11033     1/17/18             Email          control   \n",
       "10034  a11034      1/5/18         Instagram          control   \n",
       "10035  a11035     1/17/18             Email          control   \n",
       "10036  a11036      1/6/18          Facebook          control   \n",
       "\n",
       "      language_displayed converted  \n",
       "0                English      True  \n",
       "1                English      True  \n",
       "2                English      True  \n",
       "3                English      True  \n",
       "4                English      True  \n",
       "...                  ...       ...  \n",
       "10032             German      True  \n",
       "10033             German      True  \n",
       "10034             German     False  \n",
       "10035             German      True  \n",
       "10036             German     False  \n",
       "\n",
       "[10037 rows x 6 columns]>"
      ]
     },
     "execution_count": 36,
     "metadata": {},
     "output_type": "execute_result"
    }
   ],
   "source": [
    "df_marketing_campaign.describe"
   ]
  },
  {
   "cell_type": "code",
   "execution_count": 37,
   "id": "c0c34a5c",
   "metadata": {},
   "outputs": [
    {
     "data": {
      "text/html": [
       "<div>\n",
       "<style scoped>\n",
       "    .dataframe tbody tr th:only-of-type {\n",
       "        vertical-align: middle;\n",
       "    }\n",
       "\n",
       "    .dataframe tbody tr th {\n",
       "        vertical-align: top;\n",
       "    }\n",
       "\n",
       "    .dataframe thead th {\n",
       "        text-align: right;\n",
       "    }\n",
       "</style>\n",
       "<table border=\"1\" class=\"dataframe\">\n",
       "  <thead>\n",
       "    <tr style=\"text-align: right;\">\n",
       "      <th></th>\n",
       "      <th>user_id</th>\n",
       "      <th>date_served</th>\n",
       "      <th>marketing_channel</th>\n",
       "      <th>variant</th>\n",
       "      <th>language_displayed</th>\n",
       "      <th>converted</th>\n",
       "    </tr>\n",
       "  </thead>\n",
       "  <tbody>\n",
       "    <tr>\n",
       "      <th>count</th>\n",
       "      <td>10037</td>\n",
       "      <td>10021</td>\n",
       "      <td>10022</td>\n",
       "      <td>10037</td>\n",
       "      <td>10037</td>\n",
       "      <td>10022</td>\n",
       "    </tr>\n",
       "    <tr>\n",
       "      <th>unique</th>\n",
       "      <td>10037</td>\n",
       "      <td>31</td>\n",
       "      <td>5</td>\n",
       "      <td>2</td>\n",
       "      <td>4</td>\n",
       "      <td>2</td>\n",
       "    </tr>\n",
       "    <tr>\n",
       "      <th>top</th>\n",
       "      <td>a1000</td>\n",
       "      <td>1/15/18</td>\n",
       "      <td>House Ads</td>\n",
       "      <td>control</td>\n",
       "      <td>English</td>\n",
       "      <td>False</td>\n",
       "    </tr>\n",
       "    <tr>\n",
       "      <th>freq</th>\n",
       "      <td>1</td>\n",
       "      <td>789</td>\n",
       "      <td>4733</td>\n",
       "      <td>5091</td>\n",
       "      <td>9793</td>\n",
       "      <td>8946</td>\n",
       "    </tr>\n",
       "  </tbody>\n",
       "</table>\n",
       "</div>"
      ],
      "text/plain": [
       "       user_id date_served marketing_channel  variant language_displayed  \\\n",
       "count    10037       10021             10022    10037              10037   \n",
       "unique   10037          31                 5        2                  4   \n",
       "top      a1000     1/15/18         House Ads  control            English   \n",
       "freq         1         789              4733     5091               9793   \n",
       "\n",
       "       converted  \n",
       "count      10022  \n",
       "unique         2  \n",
       "top        False  \n",
       "freq        8946  "
      ]
     },
     "execution_count": 37,
     "metadata": {},
     "output_type": "execute_result"
    }
   ],
   "source": [
    "df_marketing_campaign.describe(include=['object', 'bool'])"
   ]
  },
  {
   "cell_type": "code",
   "execution_count": 41,
   "id": "5714101c",
   "metadata": {},
   "outputs": [
    {
     "data": {
      "text/plain": [
       "House Ads    4733\n",
       "Instagram    1871\n",
       "Facebook     1860\n",
       "Push          993\n",
       "Email         565\n",
       "Name: marketing_channel, dtype: int64"
      ]
     },
     "execution_count": 41,
     "metadata": {},
     "output_type": "execute_result"
    }
   ],
   "source": [
    "df_marketing_campaign['marketing_channel'].value_counts()"
   ]
  },
  {
   "cell_type": "code",
   "execution_count": 40,
   "id": "9c1ac154",
   "metadata": {},
   "outputs": [
    {
     "data": {
      "text/plain": [
       "control            5091\n",
       "personalization    4946\n",
       "Name: variant, dtype: int64"
      ]
     },
     "execution_count": 40,
     "metadata": {},
     "output_type": "execute_result"
    }
   ],
   "source": [
    "df_marketing_campaign['variant'].value_counts()"
   ]
  },
  {
   "cell_type": "code",
   "execution_count": 39,
   "id": "47e5cb41",
   "metadata": {},
   "outputs": [
    {
     "data": {
      "text/plain": [
       "English    9793\n",
       "Spanish     136\n",
       "German       81\n",
       "Arabic       27\n",
       "Name: language_displayed, dtype: int64"
      ]
     },
     "execution_count": 39,
     "metadata": {},
     "output_type": "execute_result"
    }
   ],
   "source": [
    "df_marketing_campaign['language_displayed'].value_counts()"
   ]
  },
  {
   "cell_type": "code",
   "execution_count": 38,
   "id": "fdf9e240",
   "metadata": {},
   "outputs": [
    {
     "data": {
      "text/plain": [
       "False    8946\n",
       "True     1076\n",
       "Name: converted, dtype: int64"
      ]
     },
     "execution_count": 38,
     "metadata": {},
     "output_type": "execute_result"
    }
   ],
   "source": [
    "df_marketing_campaign['df_marketing_campaign'].value_counts()"
   ]
  },
  {
   "cell_type": "code",
   "execution_count": 42,
   "id": "0ee7e66e",
   "metadata": {},
   "outputs": [
    {
     "data": {
      "text/plain": [
       "House Ads    0.472261\n",
       "Instagram    0.186689\n",
       "Facebook     0.185592\n",
       "Push         0.099082\n",
       "Email        0.056376\n",
       "Name: marketing_channel, dtype: float64"
      ]
     },
     "execution_count": 42,
     "metadata": {},
     "output_type": "execute_result"
    }
   ],
   "source": [
    "df_marketing_campaign['marketing_channel'].value_counts(normalize = True).head()"
   ]
  },
  {
   "cell_type": "code",
   "execution_count": 24,
   "id": "f18f0944",
   "metadata": {},
   "outputs": [
    {
     "name": "stdout",
     "output_type": "stream",
     "text": [
      "Размер датасета df_3: (10037, 12)\n"
     ]
    },
    {
     "data": {
      "text/html": [
       "<div>\n",
       "<style scoped>\n",
       "    .dataframe tbody tr th:only-of-type {\n",
       "        vertical-align: middle;\n",
       "    }\n",
       "\n",
       "    .dataframe tbody tr th {\n",
       "        vertical-align: top;\n",
       "    }\n",
       "\n",
       "    .dataframe thead th {\n",
       "        text-align: right;\n",
       "    }\n",
       "</style>\n",
       "<table border=\"1\" class=\"dataframe\">\n",
       "  <thead>\n",
       "    <tr style=\"text-align: right;\">\n",
       "      <th></th>\n",
       "      <th>user_id</th>\n",
       "      <th>age_group</th>\n",
       "      <th>language_preferred</th>\n",
       "      <th>date_served</th>\n",
       "      <th>marketing_channel</th>\n",
       "      <th>variant</th>\n",
       "      <th>language_displayed</th>\n",
       "      <th>converted</th>\n",
       "      <th>subscribing_channel</th>\n",
       "      <th>date_subscribed</th>\n",
       "      <th>date_canceled</th>\n",
       "      <th>is_retained</th>\n",
       "    </tr>\n",
       "  </thead>\n",
       "  <tbody>\n",
       "    <tr>\n",
       "      <th>0</th>\n",
       "      <td>a1000</td>\n",
       "      <td>0-18 years</td>\n",
       "      <td>English</td>\n",
       "      <td>1/1/18</td>\n",
       "      <td>House Ads</td>\n",
       "      <td>personalization</td>\n",
       "      <td>English</td>\n",
       "      <td>True</td>\n",
       "      <td>House Ads</td>\n",
       "      <td>1/1/18</td>\n",
       "      <td>NaN</td>\n",
       "      <td>True</td>\n",
       "    </tr>\n",
       "    <tr>\n",
       "      <th>1</th>\n",
       "      <td>a1001</td>\n",
       "      <td>19-24 years</td>\n",
       "      <td>English</td>\n",
       "      <td>1/1/18</td>\n",
       "      <td>House Ads</td>\n",
       "      <td>personalization</td>\n",
       "      <td>English</td>\n",
       "      <td>True</td>\n",
       "      <td>House Ads</td>\n",
       "      <td>1/1/18</td>\n",
       "      <td>NaN</td>\n",
       "      <td>True</td>\n",
       "    </tr>\n",
       "    <tr>\n",
       "      <th>2</th>\n",
       "      <td>a1002</td>\n",
       "      <td>24-30 years</td>\n",
       "      <td>English</td>\n",
       "      <td>1/1/18</td>\n",
       "      <td>House Ads</td>\n",
       "      <td>personalization</td>\n",
       "      <td>English</td>\n",
       "      <td>True</td>\n",
       "      <td>House Ads</td>\n",
       "      <td>1/1/18</td>\n",
       "      <td>NaN</td>\n",
       "      <td>True</td>\n",
       "    </tr>\n",
       "    <tr>\n",
       "      <th>3</th>\n",
       "      <td>a1003</td>\n",
       "      <td>30-36 years</td>\n",
       "      <td>English</td>\n",
       "      <td>1/1/18</td>\n",
       "      <td>House Ads</td>\n",
       "      <td>personalization</td>\n",
       "      <td>English</td>\n",
       "      <td>True</td>\n",
       "      <td>House Ads</td>\n",
       "      <td>1/1/18</td>\n",
       "      <td>NaN</td>\n",
       "      <td>True</td>\n",
       "    </tr>\n",
       "    <tr>\n",
       "      <th>4</th>\n",
       "      <td>a1004</td>\n",
       "      <td>36-45 years</td>\n",
       "      <td>English</td>\n",
       "      <td>1/1/18</td>\n",
       "      <td>House Ads</td>\n",
       "      <td>personalization</td>\n",
       "      <td>English</td>\n",
       "      <td>True</td>\n",
       "      <td>House Ads</td>\n",
       "      <td>1/1/18</td>\n",
       "      <td>NaN</td>\n",
       "      <td>True</td>\n",
       "    </tr>\n",
       "  </tbody>\n",
       "</table>\n",
       "</div>"
      ],
      "text/plain": [
       "  user_id    age_group language_preferred date_served marketing_channel  \\\n",
       "0   a1000   0-18 years            English      1/1/18         House Ads   \n",
       "1   a1001  19-24 years            English      1/1/18         House Ads   \n",
       "2   a1002  24-30 years            English      1/1/18         House Ads   \n",
       "3   a1003  30-36 years            English      1/1/18         House Ads   \n",
       "4   a1004  36-45 years            English      1/1/18         House Ads   \n",
       "\n",
       "           variant language_displayed converted subscribing_channel  \\\n",
       "0  personalization            English      True           House Ads   \n",
       "1  personalization            English      True           House Ads   \n",
       "2  personalization            English      True           House Ads   \n",
       "3  personalization            English      True           House Ads   \n",
       "4  personalization            English      True           House Ads   \n",
       "\n",
       "  date_subscribed date_canceled is_retained  \n",
       "0          1/1/18           NaN        True  \n",
       "1          1/1/18           NaN        True  \n",
       "2          1/1/18           NaN        True  \n",
       "3          1/1/18           NaN        True  \n",
       "4          1/1/18           NaN        True  "
      ]
     },
     "execution_count": 24,
     "metadata": {},
     "output_type": "execute_result"
    }
   ],
   "source": [
    "# Загрузить, просмотреть, определить количество строк и склеить 3 датасета:\n",
    "pre_df = df_user.merge(df_marketing_campaign, on = ['user_id'], how = 'left')\n",
    "Total_df=pre_df.merge(df_subscribers, on = ['user_id'], how = 'left')\n",
    "\n",
    "print('Размер датасета Total_df:', Total_df.shape)\n",
    "Total_df.head()"
   ]
  },
  {
   "cell_type": "code",
   "execution_count": 33,
   "id": "e6f725cd",
   "metadata": {},
   "outputs": [
    {
     "data": {
      "text/plain": [
       "House Ads    0.276952\n",
       "Instagram    0.246283\n",
       "Facebook     0.220260\n",
       "Email        0.179368\n",
       "Push         0.077138\n",
       "Name: marketing_channel, dtype: float64"
      ]
     },
     "execution_count": 33,
     "metadata": {},
     "output_type": "execute_result"
    }
   ],
   "source": [
    "# Определить эффективность маркетинговых каналов по привлечению платящих игроков.\n",
    "marketing_campaign_fltr = df_marketing_campaign[df_marketing_campaign['converted'] == 1]\n",
    "# marketing_campaign_fltr.head()\n",
    "marketing_campaign_fltr['marketing_channel'].value_counts(normalize = True).head()"
   ]
  },
  {
   "cell_type": "code",
   "execution_count": 22,
   "id": "bc85749f",
   "metadata": {},
   "outputs": [
    {
     "data": {
      "text/plain": [
       "0    1/1/18\n",
       "dtype: object"
      ]
     },
     "execution_count": 22,
     "metadata": {},
     "output_type": "execute_result"
    }
   ],
   "source": [
    "# Определить самую раннюю дату подписки на сервис.\n",
    "df_subscribers[['date_subscribed']].min(axis=1).head(1)"
   ]
  },
  {
   "cell_type": "code",
   "execution_count": 46,
   "id": "1891998b",
   "metadata": {},
   "outputs": [
    {
     "data": {
      "text/plain": [
       "age_group    language_preferred\n",
       "19-24 years  English               0.237686\n",
       "24-30 years  English               0.195465\n",
       "0-18 years   English               0.164191\n",
       "30-36 years  English               0.089132\n",
       "45-55 years  English               0.084441\n",
       "dtype: float64"
      ]
     },
     "execution_count": 46,
     "metadata": {},
     "output_type": "execute_result"
    }
   ],
   "source": [
    "# Определить портрет аудитории удержанных подписчиков (по возрасту и языку).\n",
    "\n",
    "portret = Total_df[Total_df['is_retained'] == 1]\n",
    "portret[['age_group', 'language_preferred']]\n",
    "portret[['age_group', 'language_preferred']].value_counts(normalize = True).head()"
   ]
  },
  {
   "cell_type": "code",
   "execution_count": null,
   "id": "31794804",
   "metadata": {},
   "outputs": [],
   "source": []
  }
 ],
 "metadata": {
  "kernelspec": {
   "display_name": "Python 3 (ipykernel)",
   "language": "python",
   "name": "python3"
  },
  "language_info": {
   "codemirror_mode": {
    "name": "ipython",
    "version": 3
   },
   "file_extension": ".py",
   "mimetype": "text/x-python",
   "name": "python",
   "nbconvert_exporter": "python",
   "pygments_lexer": "ipython3",
   "version": "3.9.12"
  }
 },
 "nbformat": 4,
 "nbformat_minor": 5
}
