{
 "cells": [
  {
   "cell_type": "code",
   "execution_count": 1,
   "id": "8dad4693",
   "metadata": {},
   "outputs": [
    {
     "name": "stderr",
     "output_type": "stream",
     "text": [
      "/Users/mikhalitsyn/opt/anaconda3/lib/python3.9/site-packages/sklearn/utils/deprecation.py:87: FutureWarning: Function load_boston is deprecated; `load_boston` is deprecated in 1.0 and will be removed in 1.2.\n",
      "\n",
      "    The Boston housing prices dataset has an ethical problem. You can refer to\n",
      "    the documentation of this function for further details.\n",
      "\n",
      "    The scikit-learn maintainers therefore strongly discourage the use of this\n",
      "    dataset unless the purpose of the code is to study and educate about\n",
      "    ethical issues in data science and machine learning.\n",
      "\n",
      "    In this special case, you can fetch the dataset from the original\n",
      "    source::\n",
      "\n",
      "        import pandas as pd\n",
      "        import numpy as np\n",
      "\n",
      "\n",
      "        data_url = \"http://lib.stat.cmu.edu/datasets/boston\"\n",
      "        raw_df = pd.read_csv(data_url, sep=\"\\s+\", skiprows=22, header=None)\n",
      "        data = np.hstack([raw_df.values[::2, :], raw_df.values[1::2, :2]])\n",
      "        target = raw_df.values[1::2, 2]\n",
      "\n",
      "    Alternative datasets include the California housing dataset (i.e.\n",
      "    :func:`~sklearn.datasets.fetch_california_housing`) and the Ames housing\n",
      "    dataset. You can load the datasets as follows::\n",
      "\n",
      "        from sklearn.datasets import fetch_california_housing\n",
      "        housing = fetch_california_housing()\n",
      "\n",
      "    for the California housing dataset and::\n",
      "\n",
      "        from sklearn.datasets import fetch_openml\n",
      "        housing = fetch_openml(name=\"house_prices\", as_frame=True)\n",
      "\n",
      "    for the Ames housing dataset.\n",
      "    \n",
      "  warnings.warn(msg, category=FutureWarning)\n"
     ]
    },
    {
     "data": {
      "text/html": [
       "<div>\n",
       "<style scoped>\n",
       "    .dataframe tbody tr th:only-of-type {\n",
       "        vertical-align: middle;\n",
       "    }\n",
       "\n",
       "    .dataframe tbody tr th {\n",
       "        vertical-align: top;\n",
       "    }\n",
       "\n",
       "    .dataframe thead th {\n",
       "        text-align: right;\n",
       "    }\n",
       "</style>\n",
       "<table border=\"1\" class=\"dataframe\">\n",
       "  <thead>\n",
       "    <tr style=\"text-align: right;\">\n",
       "      <th></th>\n",
       "      <th>CRIM</th>\n",
       "      <th>ZN</th>\n",
       "      <th>INDUS</th>\n",
       "      <th>CHAS</th>\n",
       "      <th>NOX</th>\n",
       "      <th>RM</th>\n",
       "      <th>AGE</th>\n",
       "      <th>DIS</th>\n",
       "      <th>RAD</th>\n",
       "      <th>TAX</th>\n",
       "      <th>PTRATIO</th>\n",
       "      <th>B</th>\n",
       "      <th>LSTAT</th>\n",
       "    </tr>\n",
       "  </thead>\n",
       "  <tbody>\n",
       "    <tr>\n",
       "      <th>0</th>\n",
       "      <td>0.00632</td>\n",
       "      <td>18.0</td>\n",
       "      <td>2.31</td>\n",
       "      <td>0.0</td>\n",
       "      <td>0.538</td>\n",
       "      <td>6.575</td>\n",
       "      <td>65.2</td>\n",
       "      <td>4.0900</td>\n",
       "      <td>1.0</td>\n",
       "      <td>296.0</td>\n",
       "      <td>15.3</td>\n",
       "      <td>396.90</td>\n",
       "      <td>4.98</td>\n",
       "    </tr>\n",
       "    <tr>\n",
       "      <th>1</th>\n",
       "      <td>0.02731</td>\n",
       "      <td>0.0</td>\n",
       "      <td>7.07</td>\n",
       "      <td>0.0</td>\n",
       "      <td>0.469</td>\n",
       "      <td>6.421</td>\n",
       "      <td>78.9</td>\n",
       "      <td>4.9671</td>\n",
       "      <td>2.0</td>\n",
       "      <td>242.0</td>\n",
       "      <td>17.8</td>\n",
       "      <td>396.90</td>\n",
       "      <td>9.14</td>\n",
       "    </tr>\n",
       "    <tr>\n",
       "      <th>2</th>\n",
       "      <td>0.02729</td>\n",
       "      <td>0.0</td>\n",
       "      <td>7.07</td>\n",
       "      <td>0.0</td>\n",
       "      <td>0.469</td>\n",
       "      <td>7.185</td>\n",
       "      <td>61.1</td>\n",
       "      <td>4.9671</td>\n",
       "      <td>2.0</td>\n",
       "      <td>242.0</td>\n",
       "      <td>17.8</td>\n",
       "      <td>392.83</td>\n",
       "      <td>4.03</td>\n",
       "    </tr>\n",
       "    <tr>\n",
       "      <th>3</th>\n",
       "      <td>0.03237</td>\n",
       "      <td>0.0</td>\n",
       "      <td>2.18</td>\n",
       "      <td>0.0</td>\n",
       "      <td>0.458</td>\n",
       "      <td>6.998</td>\n",
       "      <td>45.8</td>\n",
       "      <td>6.0622</td>\n",
       "      <td>3.0</td>\n",
       "      <td>222.0</td>\n",
       "      <td>18.7</td>\n",
       "      <td>394.63</td>\n",
       "      <td>2.94</td>\n",
       "    </tr>\n",
       "    <tr>\n",
       "      <th>4</th>\n",
       "      <td>0.06905</td>\n",
       "      <td>0.0</td>\n",
       "      <td>2.18</td>\n",
       "      <td>0.0</td>\n",
       "      <td>0.458</td>\n",
       "      <td>7.147</td>\n",
       "      <td>54.2</td>\n",
       "      <td>6.0622</td>\n",
       "      <td>3.0</td>\n",
       "      <td>222.0</td>\n",
       "      <td>18.7</td>\n",
       "      <td>396.90</td>\n",
       "      <td>5.33</td>\n",
       "    </tr>\n",
       "  </tbody>\n",
       "</table>\n",
       "</div>"
      ],
      "text/plain": [
       "      CRIM    ZN  INDUS  CHAS    NOX     RM   AGE     DIS  RAD    TAX  \\\n",
       "0  0.00632  18.0   2.31   0.0  0.538  6.575  65.2  4.0900  1.0  296.0   \n",
       "1  0.02731   0.0   7.07   0.0  0.469  6.421  78.9  4.9671  2.0  242.0   \n",
       "2  0.02729   0.0   7.07   0.0  0.469  7.185  61.1  4.9671  2.0  242.0   \n",
       "3  0.03237   0.0   2.18   0.0  0.458  6.998  45.8  6.0622  3.0  222.0   \n",
       "4  0.06905   0.0   2.18   0.0  0.458  7.147  54.2  6.0622  3.0  222.0   \n",
       "\n",
       "   PTRATIO       B  LSTAT  \n",
       "0     15.3  396.90   4.98  \n",
       "1     17.8  396.90   9.14  \n",
       "2     17.8  392.83   4.03  \n",
       "3     18.7  394.63   2.94  \n",
       "4     18.7  396.90   5.33  "
      ]
     },
     "execution_count": 1,
     "metadata": {},
     "output_type": "execute_result"
    }
   ],
   "source": [
    "# Урок 7. Предобработка данных и построение предиктивных моделей в Scikit-learn\n",
    "# Взять все признаки из датасета load_boston(). Применить модель Random Forest.\n",
    "# Рассчитайте R2 на тренировочной и тестовой выборке.\n",
    "# Сравнить показатели качества новой модели с моделью с урока и сделать вывод.\n",
    "# Результат - ссылка на готовый ноутбук в Colab.\n",
    "\n",
    "# импортируем нужные библиотеки\n",
    "from matplotlib import pyplot as plt\n",
    "%matplotlib inline\n",
    "import seaborn as sns\n",
    "import pandas as pd\n",
    "import numpy as np\n",
    "from sklearn.datasets import load_boston\n",
    "from sklearn.preprocessing import Normalizer, StandardScaler \n",
    "from sklearn.preprocessing import MinMaxScaler \n",
    "from sklearn.model_selection import train_test_split as tts\n",
    "from sklearn.linear_model import LinearRegression\n",
    "from sklearn.metrics import mean_absolute_error as mae, mean_squared_error as mse, r2_score as r2\n",
    "from sklearn.ensemble import RandomForestRegressor\n",
    "\n",
    "# загружаем данные\n",
    "boston_data = load_boston()\n",
    "\n",
    "X = pd.DataFrame(boston_data.data, columns=boston_data.feature_names)\n",
    "y = boston_data.target\n",
    "\n",
    "X.head()\n",
    "\n"
   ]
  },
  {
   "cell_type": "code",
   "execution_count": 2,
   "id": "38f50ab6",
   "metadata": {},
   "outputs": [],
   "source": [
    "# ЗАДАНИЕ_01: Взять все признаки из датасета load_boston(). Применить модель Random Forest.\n",
    "\n",
    "X_train, X_test, y_train, y_test = tts(X, y, test_size = 0.20, shuffle = True, random_state = 42)"
   ]
  },
  {
   "cell_type": "code",
   "execution_count": 3,
   "id": "32b24b58",
   "metadata": {},
   "outputs": [
    {
     "data": {
      "text/plain": [
       "RandomForestRegressor(random_state=42)"
      ]
     },
     "execution_count": 3,
     "metadata": {},
     "output_type": "execute_result"
    }
   ],
   "source": [
    "# обучение модели\n",
    "model = RandomForestRegressor(random_state=42)\n",
    "\n",
    "model.fit(X_train, y_train)"
   ]
  },
  {
   "cell_type": "code",
   "execution_count": 4,
   "id": "fe1b06e2",
   "metadata": {},
   "outputs": [
    {
     "name": "stdout",
     "output_type": "stream",
     "text": [
      "R2 train: 0.9772267182453291\n",
      "R2 test: 0.8922527442109116\n"
     ]
    }
   ],
   "source": [
    "# ЗАДАНИЕ_02: Рассчитайте R2 на тренировочной и тестовой выборке.\n",
    "\n",
    "# предсказания зависимой переменной у на тестовом и обучающем наборе\n",
    "y_train_pred = model.predict(X_train)\n",
    "y_test_pred = model.predict(X_test)\n",
    "\n",
    "# метрики качества на тестовом и обучающем множеств\n",
    "print('R2 train:', r2(y_train, y_train_pred))\n",
    "print('R2 test:', r2(y_test, y_test_pred))"
   ]
  },
  {
   "cell_type": "code",
   "execution_count": 7,
   "id": "8a7040ee",
   "metadata": {},
   "outputs": [
    {
     "name": "stderr",
     "output_type": "stream",
     "text": [
      "/var/folders/cx/fw0bgsfn59qfvhcbywry0ggw0000gn/T/ipykernel_39953/3020571710.py:5: UserWarning: color is redundantly defined by the 'color' keyword argument and the fmt string \"--k\" (-> color='k'). The keyword argument will take precedence.\n",
      "  plt.plot([0,50], [0, 50], '--k', color='green', linewidth=3)\n"
     ]
    },
    {
     "data": {
      "image/png": "[encoded data removed]",
      "text/plain": [
       "<Figure size 720x504 with 1 Axes>"
      ]
     },
     "metadata": {
      "needs_background": "light"
     },
     "output_type": "display_data"
    }
   ],
   "source": [
    "# Проверим графически:\n",
    "\n",
    "plt.figure(figsize=(10,7))\n",
    "plt.scatter(y_test, y_test_pred)\n",
    "plt.plot([0,50], [0, 50], '--k', color='green', linewidth=3)\n",
    "plt.xlabel('Fact')\n",
    "plt.ylabel('Predict')\n",
    "plt.show()"
   ]
  },
  {
   "cell_type": "code",
   "execution_count": 9,
   "id": "ee8f9015",
   "metadata": {},
   "outputs": [],
   "source": [
    "# пробуем настроить гиперпараметры\n",
    "def fit_predict(train, test, y_train, y_test, criterion = 'squared_error', n_estimators = 100, max_depth = None, min_sample_split = 2):  # пайтон на criterion = 'mse' выдал ошибку и сказал заменить на criterion = 'squared_error'\n",
    "  rf = RandomForestRegressor(criterion=criterion, n_estimators=n_estimators, max_depth=max_depth)\n",
    "  rf.fit(train, y_train)\n",
    "  y_pred_train = rf.predict(train)\n",
    "  y_pred = rf.predict(test)\n",
    "  print('train', r2(y_train, y_pred_train), 'test', r2(y_test, y_pred))"
   ]
  },
  {
   "cell_type": "code",
   "execution_count": 10,
   "id": "231bc2d8",
   "metadata": {},
   "outputs": [
    {
     "name": "stdout",
     "output_type": "stream",
     "text": [
      "R^2 score using max_depth=2: train 0.7628086412328304 test 0.7082036238797994\n",
      "R^2 score using max_depth=3: train 0.8702003610764413 test 0.8210290436052948\n",
      "R^2 score using max_depth=4: train 0.908903112007899 test 0.8470719888591776\n",
      "R^2 score using max_depth=5: train 0.9342001838564089 test 0.8677792377500892\n",
      "R^2 score using max_depth=6: train 0.951880064329932 test 0.8691679767536593\n",
      "R^2 score using max_depth=7: train 0.9606308759335968 test 0.8819891578963805\n",
      "R^2 score using max_depth=8: train 0.9696417256470214 test 0.8732251874428953\n",
      "R^2 score using max_depth=9: train 0.971599829600361 test 0.873653797920324\n",
      "R^2 score using max_depth=10: train 0.9737066377152441 test 0.878814929117502\n",
      "R^2 score using max_depth=11: train 0.9748547366897604 test 0.8635604273986311\n",
      "R^2 score using max_depth=12: train 0.9779325949100351 test 0.882786412311855\n",
      "R^2 score using max_depth=13: train 0.9792612860463988 test 0.873587739109753\n",
      "R^2 score using max_depth=14: train 0.9763842014135258 test 0.8796904646202899\n",
      "R^2 score using max_depth=15: train 0.9797986718974858 test 0.8871041880425505\n",
      "R^2 score using max_depth=16: train 0.9754066796858692 test 0.8810896103227651\n",
      "R^2 score using max_depth=17: train 0.9805908643580841 test 0.8765387978185846\n",
      "R^2 score using max_depth=18: train 0.9782970911777805 test 0.8833872674052451\n",
      "R^2 score using max_depth=19: train 0.977928912852393 test 0.888002566738953\n",
      "R^2 score using max_depth=20: train 0.9739583813548732 test 0.8645412290031564\n"
     ]
    }
   ],
   "source": [
    "# максимальная глубина деревьев\n",
    "for max_depth in range(2,21):\n",
    "  print('R^2 score using max_depth={0}:'.format(max_depth), end=' ')\n",
    "  fit_predict(X_train, X_test, y_train, y_test, max_depth = max_depth)"
   ]
  },
  {
   "cell_type": "code",
   "execution_count": 11,
   "id": "7dc17197",
   "metadata": {},
   "outputs": [
    {
     "name": "stdout",
     "output_type": "stream",
     "text": [
      "R^2 score using min_sample_leaf = 5: train 0.8713287163469842 test 0.820738965570885\n",
      "R^2 score using min_sample_leaf = 10: train 0.8684895421352261 test 0.8095285240387742\n",
      "R^2 score using min_sample_leaf = 15: train 0.8713934056925543 test 0.8065019731730749\n",
      "R^2 score using min_sample_leaf = 20: train 0.8674782823772512 test 0.8294280002421228\n",
      "R^2 score using min_sample_leaf = 25: train 0.8678634662690465 test 0.7975013721128968\n",
      "R^2 score using min_sample_leaf = 30: train 0.8708281837785198 test 0.8270286486941401\n",
      "R^2 score using min_sample_leaf = 35: train 0.8702653895222809 test 0.8272437781531587\n",
      "R^2 score using min_sample_leaf = 40: train 0.8661835179676283 test 0.8264763702065956\n",
      "R^2 score using min_sample_leaf = 45: train 0.8661199464684115 test 0.8200246945968999\n",
      "R^2 score using min_sample_leaf = 50: train 0.8657631317132767 test 0.8237480147904809\n"
     ]
    }
   ],
   "source": [
    "# минимальное число объектов, чтобы узел дерева расщепился\n",
    "for min_sample_split in range(5,51,5):\n",
    "  print('R^2 score using min_sample_leaf = {0}:'.format(min_sample_split), end = ' ')\n",
    "  fit_predict(X_train, X_test, y_train, y_test, max_depth=3, min_sample_split=min_sample_split)"
   ]
  },
  {
   "cell_type": "code",
   "execution_count": 12,
   "id": "38a68e94",
   "metadata": {},
   "outputs": [
    {
     "name": "stdout",
     "output_type": "stream",
     "text": [
      "R^2 score using squared_error criterion: train 0.8677845473796509 test 0.8178149308586403\n",
      "R^2 score using absolute_error criterion: train 0.8383425573533164 test 0.7925233510383471\n"
     ]
    }
   ],
   "source": [
    "# критерий расщепления\n",
    "for criterion in ['squared_error', 'absolute_error']:  # Criterion 'mae' was deprecated in v1.0 and will be removed in version 1.2. Use `criterion='absolute_error'` which is equivalent.\n",
    "  print('R^2 score using {0} criterion:'.format(criterion), end=' ')\n",
    "  fit_predict(X_train, X_test, y_train, y_test, max_depth=3, min_sample_split=15, criterion=criterion)"
   ]
  },
  {
   "cell_type": "code",
   "execution_count": 13,
   "id": "72ab962e",
   "metadata": {},
   "outputs": [
    {
     "name": "stdout",
     "output_type": "stream",
     "text": [
      "R^2 score using n_estimators = 100: train 0.8674958638984298 test 0.807828313505503\n",
      "R^2 score using n_estimators = 200: train 0.869167470640553 test 0.821339386286229\n",
      "R^2 score using n_estimators = 300: train 0.8694919739547915 test 0.8290287070981901\n",
      "R^2 score using n_estimators = 400: train 0.8695267598420544 test 0.8246182736440852\n",
      "R^2 score using n_estimators = 500: train 0.8696665331792748 test 0.8195872479774474\n",
      "R^2 score using n_estimators = 600: train 0.8698680799529641 test 0.8236967139710935\n",
      "R^2 score using n_estimators = 700: train 0.8690745825666794 test 0.8230911828636975\n",
      "R^2 score using n_estimators = 800: train 0.8686380237164246 test 0.8212086613091882\n",
      "R^2 score using n_estimators = 900: train 0.8698977234044526 test 0.8249443939455685\n",
      "R^2 score using n_estimators = 1000: train 0.8708939666414393 test 0.8239339471243716\n"
     ]
    }
   ],
   "source": [
    "# число \"деревьев\" в \"случайном лесу\"\n",
    "for n_estimators in range(100,1001,100):\n",
    "  print('R^2 score using n_estimators = {0}:'.format(n_estimators), end=' ')\n",
    "  fit_predict(X_train, X_test, y_train, y_test, max_depth=3, min_sample_split=15, criterion='squared_error', n_estimators=n_estimators)"
   ]
  },
  {
   "cell_type": "code",
   "execution_count": 14,
   "id": "c16b7c9c",
   "metadata": {},
   "outputs": [
    {
     "data": {
      "text/plain": [
       "RandomForestRegressor(max_depth=3, min_samples_split=15, n_estimators=300,\n",
       "                      random_state=5)"
      ]
     },
     "execution_count": 14,
     "metadata": {},
     "output_type": "execute_result"
    }
   ],
   "source": [
    "model2 = RandomForestRegressor(criterion='squared_error', n_estimators=300, max_depth=3, random_state=5, min_samples_split=15)\n",
    "\n",
    "model2.fit(X_train, y_train)"
   ]
  },
  {
   "cell_type": "code",
   "execution_count": 15,
   "id": "07e8f9c5",
   "metadata": {},
   "outputs": [
    {
     "name": "stdout",
     "output_type": "stream",
     "text": [
      "R2 train: 0.8685861956584837\n",
      "R2 test: 0.8248676153984816\n"
     ]
    }
   ],
   "source": [
    "y_train_pred2=model2.predict(X_train)\n",
    "y_test_pred2=model2.predict(X_test)\n",
    "\n",
    "print('R2 train:', r2(y_train, y_train_pred2))\n",
    "print('R2 test:', r2(y_test, y_test_pred2))"
   ]
  },
  {
   "cell_type": "code",
   "execution_count": null,
   "id": "47e4b059",
   "metadata": {},
   "outputs": [],
   "source": []
  }
 ],
 "metadata": {
  "kernelspec": {
   "display_name": "Python 3 (ipykernel)",
   "language": "python",
   "name": "python3"
  },
  "language_info": {
   "codemirror_mode": {
    "name": "ipython",
    "version": 3
   },
   "file_extension": ".py",
   "mimetype": "text/x-python",
   "name": "python",
   "nbconvert_exporter": "python",
   "pygments_lexer": "ipython3",
   "version": "3.9.12"
  }
 },
 "nbformat": 4,
 "nbformat_minor": 5
}
